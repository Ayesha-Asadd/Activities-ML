{
  "nbformat": 4,
  "nbformat_minor": 0,
  "metadata": {
    "colab": {
      "provenance": [],
      "authorship_tag": "ABX9TyMlcNXK8JUDiLJglOoy+Zad",
      "include_colab_link": true
    },
    "kernelspec": {
      "name": "python3",
      "display_name": "Python 3"
    },
    "language_info": {
      "name": "python"
    }
  },
  "cells": [
    {
      "cell_type": "markdown",
      "metadata": {
        "id": "view-in-github",
        "colab_type": "text"
      },
      "source": [
        "<a href=\"https://colab.research.google.com/github/Ayesha-Asadd/Activities-ML/blob/main/ML_Python_01_activity.ipynb\" target=\"_parent\"><img src=\"https://colab.research.google.com/assets/colab-badge.svg\" alt=\"Open In Colab\"/></a>"
      ]
    },
    {
      "cell_type": "code",
      "execution_count": null,
      "metadata": {
        "colab": {
          "base_uri": "https://localhost:8080/"
        },
        "id": "jGJB3Azfo83O",
        "outputId": "084339da-2e7e-4bef-d8b3-b89e01a8965f"
      },
      "outputs": [
        {
          "output_type": "stream",
          "name": "stdout",
          "text": [
            "Addition: 8\n",
            "Subtraction: 2\n",
            "Multiplication: 15\n",
            "Division: 1.6666666666666667\n"
          ]
        }
      ],
      "source": [
        "def add(x, y):\n",
        "    return x + y\n",
        "print(\"Addition:\", add(5, 3))\n",
        "\n",
        "def Sub(x, y):\n",
        "    return x - y\n",
        "print(\"Subtraction:\", Sub(5, 3))\n",
        "\n",
        "def multi(x, y):\n",
        "    return x * y\n",
        "print(\"Multiplication:\", multi(5, 3))\n",
        "\n",
        "def divide(x, y):\n",
        "    if y == 0:\n",
        "        return \"Cannot divide by zero\"\n",
        "    return x / y\n",
        "print(\"Division:\", divide(5, 3))"
      ]
    },
    {
      "cell_type": "code",
      "source": [
        "num=10\n",
        "def check(num):\n",
        "    if num % 2 == 0:\n",
        "        print(\"Even\", num)\n",
        "    else:\n",
        "        print(\"Odd\", num)\n",
        "check(num)"
      ],
      "metadata": {
        "colab": {
          "base_uri": "https://localhost:8080/"
        },
        "id": "HQ4-34gipYHM",
        "outputId": "1e73087d-0d3a-4793-be4d-bc34f75b91ba"
      },
      "execution_count": null,
      "outputs": [
        {
          "output_type": "stream",
          "name": "stdout",
          "text": [
            "Even 10\n"
          ]
        }
      ]
    },
    {
      "cell_type": "code",
      "source": [
        "celsius=37\n",
        "fahrenheit = (celsius * 9/5) + 32\n",
        "print (fahrenheit)"
      ],
      "metadata": {
        "colab": {
          "base_uri": "https://localhost:8080/"
        },
        "id": "AHk-2cK3pbBm",
        "outputId": "5509cba8-67d1-4e25-ede2-72799980ff67"
      },
      "execution_count": null,
      "outputs": [
        {
          "output_type": "stream",
          "name": "stdout",
          "text": [
            "98.6\n"
          ]
        }
      ]
    },
    {
      "cell_type": "code",
      "source": [
        "def Largest(num1, num2):\n",
        "    if num1 >= num2:\n",
        "        print(\"Largest:\", num1)\n",
        "    else:\n",
        "        print(\"Largest:\", num2)\n",
        "Largest(10, 20)"
      ],
      "metadata": {
        "id": "ZOVsLDdCpea5",
        "outputId": "69b3ce21-cdfe-4321-f3c2-b96421d760f4",
        "colab": {
          "base_uri": "https://localhost:8080/"
        }
      },
      "execution_count": null,
      "outputs": [
        {
          "output_type": "stream",
          "name": "stdout",
          "text": [
            "Largest: 20\n"
          ]
        }
      ]
    },
    {
      "cell_type": "code",
      "source": [
        "num = -1\n",
        "if num > 0:\n",
        "    print(\"Positive.\")\n",
        "elif num < 0:\n",
        "    print(\"Negative.\")\n",
        "else:\n",
        "    print(\"Zero.\")\n"
      ],
      "metadata": {
        "id": "0b22hSSIphQe",
        "outputId": "883b628d-9c7c-4856-ae46-78b20134eac6",
        "colab": {
          "base_uri": "https://localhost:8080/"
        }
      },
      "execution_count": null,
      "outputs": [
        {
          "output_type": "stream",
          "name": "stdout",
          "text": [
            "Negative.\n"
          ]
        }
      ]
    }
  ]
}